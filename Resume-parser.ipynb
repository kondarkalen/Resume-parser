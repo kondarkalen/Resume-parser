{
  "nbformat": 4,
  "nbformat_minor": 0,
  "metadata": {
    "colab": {
      "provenance": []
    },
    "kernelspec": {
      "name": "python3",
      "display_name": "Python 3"
    },
    "language_info": {
      "name": "python"
    }
  },
  "cells": [
    {
      "cell_type": "markdown",
      "source": [
        "## Library imports"
      ],
      "metadata": {
        "id": "J5yCPOYeU7N-"
      }
    },
    {
      "cell_type": "code",
      "source": [
        "import spacy\n",
        "from spacy.pipeline import EntityRuler\n",
        "!pip install PyMuPDF\n",
        "import fitz  # For PDF handling\n",
        "!python -m spacy download en_core_web_md\n",
        "!pip install docx\n",
        "import os\n",
        "!pip install tabulate\n",
        "from tabulate import tabulate\n",
        "import warnings\n",
        "import json\n"
      ],
      "metadata": {
        "colab": {
          "base_uri": "https://localhost:8080/"
        },
        "id": "20EKgyyRyYr-",
        "outputId": "80ca7909-8db6-4a60-cf19-cd4a777ea868"
      },
      "execution_count": 131,
      "outputs": [
        {
          "output_type": "stream",
          "name": "stdout",
          "text": [
            "Requirement already satisfied: PyMuPDF in /usr/local/lib/python3.10/dist-packages (1.24.5)\n",
            "Requirement already satisfied: PyMuPDFb==1.24.3 in /usr/local/lib/python3.10/dist-packages (from PyMuPDF) (1.24.3)\n",
            "Collecting en-core-web-md==3.7.1\n",
            "  Using cached https://github.com/explosion/spacy-models/releases/download/en_core_web_md-3.7.1/en_core_web_md-3.7.1-py3-none-any.whl (42.8 MB)\n",
            "Requirement already satisfied: spacy<3.8.0,>=3.7.2 in /usr/local/lib/python3.10/dist-packages (from en-core-web-md==3.7.1) (3.7.4)\n",
            "Requirement already satisfied: spacy-legacy<3.1.0,>=3.0.11 in /usr/local/lib/python3.10/dist-packages (from spacy<3.8.0,>=3.7.2->en-core-web-md==3.7.1) (3.0.12)\n",
            "Requirement already satisfied: spacy-loggers<2.0.0,>=1.0.0 in /usr/local/lib/python3.10/dist-packages (from spacy<3.8.0,>=3.7.2->en-core-web-md==3.7.1) (1.0.5)\n",
            "Requirement already satisfied: murmurhash<1.1.0,>=0.28.0 in /usr/local/lib/python3.10/dist-packages (from spacy<3.8.0,>=3.7.2->en-core-web-md==3.7.1) (1.0.10)\n",
            "Requirement already satisfied: cymem<2.1.0,>=2.0.2 in /usr/local/lib/python3.10/dist-packages (from spacy<3.8.0,>=3.7.2->en-core-web-md==3.7.1) (2.0.8)\n",
            "Requirement already satisfied: preshed<3.1.0,>=3.0.2 in /usr/local/lib/python3.10/dist-packages (from spacy<3.8.0,>=3.7.2->en-core-web-md==3.7.1) (3.0.9)\n",
            "Requirement already satisfied: thinc<8.3.0,>=8.2.2 in /usr/local/lib/python3.10/dist-packages (from spacy<3.8.0,>=3.7.2->en-core-web-md==3.7.1) (8.2.3)\n",
            "Requirement already satisfied: wasabi<1.2.0,>=0.9.1 in /usr/local/lib/python3.10/dist-packages (from spacy<3.8.0,>=3.7.2->en-core-web-md==3.7.1) (1.1.2)\n",
            "Requirement already satisfied: srsly<3.0.0,>=2.4.3 in /usr/local/lib/python3.10/dist-packages (from spacy<3.8.0,>=3.7.2->en-core-web-md==3.7.1) (2.4.8)\n",
            "Requirement already satisfied: catalogue<2.1.0,>=2.0.6 in /usr/local/lib/python3.10/dist-packages (from spacy<3.8.0,>=3.7.2->en-core-web-md==3.7.1) (2.0.10)\n",
            "Requirement already satisfied: weasel<0.4.0,>=0.1.0 in /usr/local/lib/python3.10/dist-packages (from spacy<3.8.0,>=3.7.2->en-core-web-md==3.7.1) (0.3.4)\n",
            "Requirement already satisfied: typer<0.10.0,>=0.3.0 in /usr/local/lib/python3.10/dist-packages (from spacy<3.8.0,>=3.7.2->en-core-web-md==3.7.1) (0.9.4)\n",
            "Requirement already satisfied: smart-open<7.0.0,>=5.2.1 in /usr/local/lib/python3.10/dist-packages (from spacy<3.8.0,>=3.7.2->en-core-web-md==3.7.1) (6.4.0)\n",
            "Requirement already satisfied: tqdm<5.0.0,>=4.38.0 in /usr/local/lib/python3.10/dist-packages (from spacy<3.8.0,>=3.7.2->en-core-web-md==3.7.1) (4.66.4)\n",
            "Requirement already satisfied: requests<3.0.0,>=2.13.0 in /usr/local/lib/python3.10/dist-packages (from spacy<3.8.0,>=3.7.2->en-core-web-md==3.7.1) (2.31.0)\n",
            "Requirement already satisfied: pydantic!=1.8,!=1.8.1,<3.0.0,>=1.7.4 in /usr/local/lib/python3.10/dist-packages (from spacy<3.8.0,>=3.7.2->en-core-web-md==3.7.1) (2.7.1)\n",
            "Requirement already satisfied: jinja2 in /usr/local/lib/python3.10/dist-packages (from spacy<3.8.0,>=3.7.2->en-core-web-md==3.7.1) (3.1.4)\n",
            "Requirement already satisfied: setuptools in /usr/local/lib/python3.10/dist-packages (from spacy<3.8.0,>=3.7.2->en-core-web-md==3.7.1) (67.7.2)\n",
            "Requirement already satisfied: packaging>=20.0 in /usr/local/lib/python3.10/dist-packages (from spacy<3.8.0,>=3.7.2->en-core-web-md==3.7.1) (24.0)\n",
            "Requirement already satisfied: langcodes<4.0.0,>=3.2.0 in /usr/local/lib/python3.10/dist-packages (from spacy<3.8.0,>=3.7.2->en-core-web-md==3.7.1) (3.4.0)\n",
            "Requirement already satisfied: numpy>=1.19.0 in /usr/local/lib/python3.10/dist-packages (from spacy<3.8.0,>=3.7.2->en-core-web-md==3.7.1) (1.25.2)\n",
            "Requirement already satisfied: language-data>=1.2 in /usr/local/lib/python3.10/dist-packages (from langcodes<4.0.0,>=3.2.0->spacy<3.8.0,>=3.7.2->en-core-web-md==3.7.1) (1.2.0)\n",
            "Requirement already satisfied: annotated-types>=0.4.0 in /usr/local/lib/python3.10/dist-packages (from pydantic!=1.8,!=1.8.1,<3.0.0,>=1.7.4->spacy<3.8.0,>=3.7.2->en-core-web-md==3.7.1) (0.7.0)\n",
            "Requirement already satisfied: pydantic-core==2.18.2 in /usr/local/lib/python3.10/dist-packages (from pydantic!=1.8,!=1.8.1,<3.0.0,>=1.7.4->spacy<3.8.0,>=3.7.2->en-core-web-md==3.7.1) (2.18.2)\n",
            "Requirement already satisfied: typing-extensions>=4.6.1 in /usr/local/lib/python3.10/dist-packages (from pydantic!=1.8,!=1.8.1,<3.0.0,>=1.7.4->spacy<3.8.0,>=3.7.2->en-core-web-md==3.7.1) (4.11.0)\n",
            "Requirement already satisfied: charset-normalizer<4,>=2 in /usr/local/lib/python3.10/dist-packages (from requests<3.0.0,>=2.13.0->spacy<3.8.0,>=3.7.2->en-core-web-md==3.7.1) (3.3.2)\n",
            "Requirement already satisfied: idna<4,>=2.5 in /usr/local/lib/python3.10/dist-packages (from requests<3.0.0,>=2.13.0->spacy<3.8.0,>=3.7.2->en-core-web-md==3.7.1) (3.7)\n",
            "Requirement already satisfied: urllib3<3,>=1.21.1 in /usr/local/lib/python3.10/dist-packages (from requests<3.0.0,>=2.13.0->spacy<3.8.0,>=3.7.2->en-core-web-md==3.7.1) (2.0.7)\n",
            "Requirement already satisfied: certifi>=2017.4.17 in /usr/local/lib/python3.10/dist-packages (from requests<3.0.0,>=2.13.0->spacy<3.8.0,>=3.7.2->en-core-web-md==3.7.1) (2024.2.2)\n",
            "Requirement already satisfied: blis<0.8.0,>=0.7.8 in /usr/local/lib/python3.10/dist-packages (from thinc<8.3.0,>=8.2.2->spacy<3.8.0,>=3.7.2->en-core-web-md==3.7.1) (0.7.11)\n",
            "Requirement already satisfied: confection<1.0.0,>=0.0.1 in /usr/local/lib/python3.10/dist-packages (from thinc<8.3.0,>=8.2.2->spacy<3.8.0,>=3.7.2->en-core-web-md==3.7.1) (0.1.4)\n",
            "Requirement already satisfied: click<9.0.0,>=7.1.1 in /usr/local/lib/python3.10/dist-packages (from typer<0.10.0,>=0.3.0->spacy<3.8.0,>=3.7.2->en-core-web-md==3.7.1) (8.1.7)\n",
            "Requirement already satisfied: cloudpathlib<0.17.0,>=0.7.0 in /usr/local/lib/python3.10/dist-packages (from weasel<0.4.0,>=0.1.0->spacy<3.8.0,>=3.7.2->en-core-web-md==3.7.1) (0.16.0)\n",
            "Requirement already satisfied: MarkupSafe>=2.0 in /usr/local/lib/python3.10/dist-packages (from jinja2->spacy<3.8.0,>=3.7.2->en-core-web-md==3.7.1) (2.1.5)\n",
            "Requirement already satisfied: marisa-trie>=0.7.7 in /usr/local/lib/python3.10/dist-packages (from language-data>=1.2->langcodes<4.0.0,>=3.2.0->spacy<3.8.0,>=3.7.2->en-core-web-md==3.7.1) (1.1.1)\n",
            "\u001b[38;5;2m✔ Download and installation successful\u001b[0m\n",
            "You can now load the package via spacy.load('en_core_web_md')\n",
            "\u001b[38;5;3m⚠ Restart to reload dependencies\u001b[0m\n",
            "If you are in a Jupyter or Colab notebook, you may need to restart Python in\n",
            "order to load all the package's dependencies. You can do this by selecting the\n",
            "'Restart kernel' or 'Restart runtime' option.\n",
            "Requirement already satisfied: docx in /usr/local/lib/python3.10/dist-packages (0.2.4)\n",
            "Requirement already satisfied: lxml in /usr/local/lib/python3.10/dist-packages (from docx) (4.9.4)\n",
            "Requirement already satisfied: Pillow>=2.0 in /usr/local/lib/python3.10/dist-packages (from docx) (9.4.0)\n",
            "Requirement already satisfied: tabulate in /usr/local/lib/python3.10/dist-packages (0.9.0)\n"
          ]
        }
      ]
    },
    {
      "cell_type": "code",
      "source": [
        "!pip install python-docx\n",
        "import docx"
      ],
      "metadata": {
        "colab": {
          "base_uri": "https://localhost:8080/"
        },
        "id": "9s8Mf8pV6Qw4",
        "outputId": "357f7ddd-d465-4e59-9c6f-8e0e922b5996"
      },
      "execution_count": 135,
      "outputs": [
        {
          "output_type": "stream",
          "name": "stdout",
          "text": [
            "Collecting python-docx\n",
            "  Downloading python_docx-1.1.2-py3-none-any.whl (244 kB)\n",
            "\u001b[2K     \u001b[90m━━━━━━━━━━━━━━━━━━━━━━━━━━━━━━━━━━━━━━━━\u001b[0m \u001b[32m244.3/244.3 kB\u001b[0m \u001b[31m2.0 MB/s\u001b[0m eta \u001b[36m0:00:00\u001b[0m\n",
            "\u001b[?25hRequirement already satisfied: lxml>=3.1.0 in /usr/local/lib/python3.10/dist-packages (from python-docx) (4.9.4)\n",
            "Requirement already satisfied: typing-extensions>=4.9.0 in /usr/local/lib/python3.10/dist-packages (from python-docx) (4.11.0)\n",
            "Installing collected packages: python-docx\n",
            "Successfully installed python-docx-1.1.2\n"
          ]
        }
      ]
    },
    {
      "cell_type": "code",
      "source": [
        "import warnings\n",
        "warnings.filterwarnings('ignore')"
      ],
      "metadata": {
        "id": "Gw8KASPB9GXZ"
      },
      "execution_count": 140,
      "outputs": []
    },
    {
      "cell_type": "markdown",
      "source": [
        "## Loading and setting up the pipeline"
      ],
      "metadata": {
        "id": "vCvhGmoLU_lW"
      }
    },
    {
      "cell_type": "code",
      "source": [
        "# Load spaCy Model\n",
        "nlp = spacy.load(\"en_core_web_md\")\n",
        "ruler = EntityRuler(nlp)"
      ],
      "metadata": {
        "id": "mDpvyRrFyeBS"
      },
      "execution_count": null,
      "outputs": []
    },
    {
      "cell_type": "code",
      "source": [
        "warnings.filterwarnings(\"ignore\", message=\"[W036] The component 'entity_ruler' does not have any patterns defined.\")"
      ],
      "metadata": {
        "id": "W0TsSBgcUhiN"
      },
      "execution_count": null,
      "outputs": []
    },
    {
      "cell_type": "code",
      "source": [
        "patterns = [\n",
        "    {\"label\": \"NAME\", \"pattern\": [{\"POS\": \"PROPN\"}, {\"POS\": \"PROPN\"}]},  # Capture two-word names\n",
        "    {\"label\": \"PHONE\", \"pattern\": [{\"SHAPE\": \"dddd ddd dddd\"}]},        # Indian phone format\n",
        "    {\"label\": \"EMAIL\", \"pattern\": [{\"LIKE_EMAIL\": True}]},\n",
        "    {\"label\": \"LOCATION\", \"pattern\": [{\"ENT_TYPE\": \"GPE\"}]},            # GPE = Geopolitical Entity\n",
        "\n",
        "    # Education (more specific)\n",
        "    {\"label\": \"DEGREE\", \"pattern\": [{\"LOWER\": \"bachelor\"}, {\"LOWER\": \"of\"}, {\"LOWER\": \"technology\"}]},\n",
        "    {\"label\": \"UNIVERSITY\", \"pattern\": [{\"LOWER\": \"mahindra\"}, {\"LOWER\": \"university\"}]},\n",
        "    {\"label\": \"CGPA\", \"pattern\": [{\"LOWER\": \"cgpa\"}, {\"TEXT\": \":\"}, {\"IS_DIGIT\": True}, {\"TEXT\": \"/\"}, {\"IS_DIGIT\": True}]},  # CGPA: 8/10 format\n",
        "    {\"label\": \"PERCENTAGE\", \"pattern\": [{\"TEXT\": \"Percentage\"}, {\"TEXT\": \":\"}, {\"LIKE_NUM\": True}, {\"TEXT\": \"%\"}]},\n",
        "\n",
        "    # Projects\n",
        "    {\"label\": \"PROJECT_NAME\", \"pattern\": [{\"IS_TITLE\": True}, {\"POS\": \"PROPN\"}]},  # Capture project names\n",
        "    {\"label\": \"PROJECT_MONTH_YEAR\", \"pattern\": [{\"TEXT\": {\"IN\": [\"January\", \"February\", \"March\", \"April\", \"May\", \"June\", \"July\", \"August\", \"September\", \"October\", \"November\", \"December\"]}}, {\"SHAPE\": \"dddd\"}]},\n",
        "\n",
        "    # Skills (more comprehensive list)\n",
        "    {\"label\": \"SKILL\", \"pattern\": [{\"LOWER\": {\"IN\": [\"python\", \"java\", \"c\", \"cpp\", \"matlab\", \"aws\", \"html\", \"css\", \"javascript\", \"nodejs\", \"nextjs\", \"reactjs\", \"expressjs\", \"prisma\", \"swift\", \"linux\", \"c++\", \"flask\", \"django\", \"faker\", \"pysynthetic\", \"mimesis\", \"json\", \"web\", \"tokens\", \"jwt\", \"parquet\", \"densenet-169\", \"arkit\", \"swift\", \"kepler's\", \"laws\", \"gravitation\", \"machine\", \"learning\"]}}]},\n",
        "\n",
        "    # Internship/Training Programs (adjust based on common company names)\n",
        "    {\"label\": \"COMPANY_NAME\", \"pattern\": [{\"LOWER\": {\"IN\": [\"dell\", \"cornell\", \"university\", \"national\", \"university\", \"of\", \"singapore\"]}}]},\n",
        "\n",
        "    # Awards and Achievements\n",
        "    {\"label\": \"AWARD\", \"pattern\": [{\"LOWER\": \"smart\"}, {\"LOWER\": \"india\"}, {\"LOWER\": \"hackathon\"}]},  # Example specific award\n",
        "\n",
        "    # Extracurricular Activities\n",
        "    {\"label\": \"INTEREST\", \"pattern\": [{\"LOWER\": {\"IN\": [\"football\", \"badminton\", \"e-sports\", \"movies\", \"music\"]}}]},\n",
        "    {\"label\": \"SOFT_SKILL\", \"pattern\": [{\"LOWER\": {\"IN\": [\"leadership\", \"teamwork\", \"communication\", \"problem-solving\", \"critical thinking\", \"time management\", \"adaptability\", \"creativity\"]}}]},\n",
        "    {\"label\": \"COURSE\", \"pattern\": [{\"LOWER\": {\"IN\": [\"operating\", \"systems\", \"data\", \"structures\", \"algorithms\", \"database\", \"management\", \"systems\", \"machine\", \"learning\"]}}]},\n",
        "]\n",
        "ruler.add_patterns(patterns)\n",
        "nlp.add_pipe(\"entity_ruler\", config={\"overwrite_ents\": True})\n"
      ],
      "metadata": {
        "colab": {
          "base_uri": "https://localhost:8080/"
        },
        "id": "gS33r2BSuuyv",
        "outputId": "883fc52a-0ae0-4a8b-c51b-8304c31f6d14"
      },
      "execution_count": null,
      "outputs": [
        {
          "output_type": "execute_result",
          "data": {
            "text/plain": [
              "<spacy.pipeline.entityruler.EntityRuler at 0x7c9f5224a480>"
            ]
          },
          "metadata": {},
          "execution_count": 93
        }
      ]
    },
    {
      "cell_type": "markdown",
      "source": [
        "## Data extraction and score calculation"
      ],
      "metadata": {
        "id": "p8UyKr7dVIVh"
      }
    },
    {
      "cell_type": "markdown",
      "source": [
        "### Data extraction methods"
      ],
      "metadata": {
        "id": "QS_eBR80aQg2"
      }
    },
    {
      "cell_type": "code",
      "source": [
        "def extract_text_from_file(file_path):\n",
        "    _, file_extension = os.path.splitext(file_path)\n",
        "    if file_extension.lower() == \".pdf\":\n",
        "        return extract_text_from_pdf(file_path)\n",
        "    elif file_extension.lower() == \".docx\":\n",
        "        return extract_text_from_docx(file_path)\n",
        "    elif file_extension.lower() == \".doc\":\n",
        "        return extract_text_from_doc(file_path)\n",
        "    elif file_extension.lower() == \".txt\":\n",
        "        return extract_text_from_txt(file_path)\n",
        "    else:\n",
        "        raise ValueError(\"Unsupported file format\")"
      ],
      "metadata": {
        "id": "XRTZbi4waTUt"
      },
      "execution_count": null,
      "outputs": []
    },
    {
      "cell_type": "code",
      "source": [
        "def extract_text_from_pdf(pdf_file_path):\n",
        "\n",
        "    if os.path.splitext(pdf_file_path)[1].lower() == '.pdf':\n",
        "\n",
        "      text = \"\"\n",
        "      with fitz.open(pdf_file_path) as pdf_document:\n",
        "          for page_num in range(len(pdf_document)):\n",
        "              page = pdf_document.load_page(page_num)\n",
        "              text += page.get_text()\n",
        "      return text"
      ],
      "metadata": {
        "id": "qoYXeLhdaUJu"
      },
      "execution_count": null,
      "outputs": []
    },
    {
      "cell_type": "code",
      "source": [
        "def extract_text_from_docx(docx_file_path):\n",
        "    doc = docx.Document(docx_file_path)\n",
        "    text = \"\"\n",
        "    for paragraph in doc.paragraphs:\n",
        "        text += paragraph.text + \"\\n\"\n",
        "    return text"
      ],
      "metadata": {
        "id": "MRwFIqrnaV2g"
      },
      "execution_count": null,
      "outputs": []
    },
    {
      "cell_type": "code",
      "source": [
        "def extract_text_from_doc(doc_file_path):\n",
        "    text = docx2txt.process(doc_file_path)\n",
        "    return text"
      ],
      "metadata": {
        "id": "PoZwCqppaXT_"
      },
      "execution_count": null,
      "outputs": []
    },
    {
      "cell_type": "code",
      "source": [
        "def extract_text_from_txt(txt_file_path):\n",
        "    with open(txt_file_path, \"r\") as file:\n",
        "        text = file.read()\n",
        "    return text"
      ],
      "metadata": {
        "id": "dos04KksaZVH"
      },
      "execution_count": null,
      "outputs": []
    },
    {
      "cell_type": "markdown",
      "source": [
        "### Methods"
      ],
      "metadata": {
        "id": "07T8BxZwVNFi"
      }
    },
    {
      "cell_type": "code",
      "source": [
        "def lower_entities(entities_dict):\n",
        "    lowercased_entities = {}\n",
        "    for key, values in entities_dict.items():\n",
        "        lowercased_entities[key] = [value.lower() for value in values]\n",
        "    return lowercased_entities"
      ],
      "metadata": {
        "id": "LQySZeJQAh7d"
      },
      "execution_count": null,
      "outputs": []
    },
    {
      "cell_type": "code",
      "source": [
        "def load_requirements(json_file_path):\n",
        "    with open(json_file_path, \"r\") as file:\n",
        "        return json.load(file)"
      ],
      "metadata": {
        "id": "0m4rzvzF_Ll4"
      },
      "execution_count": null,
      "outputs": []
    },
    {
      "cell_type": "code",
      "source": [
        "def process_resumes(resumes_folder, requirements_path):\n",
        "    results = {}\n",
        "    # Load requirements from JSON file\n",
        "    requirements = load_requirements(requirements_path)\n",
        "\n",
        "    # Iterate through the files in the resumes folder\n",
        "    for filename in os.listdir(resumes_folder):\n",
        "        if filename.endswith('.pdf') or filename.endswith('.docx'):\n",
        "            candidate_name = os.path.splitext(filename)[0]\n",
        "            file_path = os.path.join(resumes_folder, filename)\n",
        "\n",
        "            # Extract text based on file type\n",
        "            if filename.endswith('.pdf'):\n",
        "                pdf_text = extract_text_from_pdf(file_path)\n",
        "            elif filename.endswith('.docx'):\n",
        "                pdf_text = extract_text_from_docx(file_path)\n",
        "            else:\n",
        "                continue  # Skip processing for unsupported file types\n",
        "\n",
        "            doc = nlp(pdf_text)\n",
        "\n",
        "            # Extract entities from the NLP output\n",
        "            extracted_entities = {}\n",
        "            for ent in doc.ents:\n",
        "                if ent.label_ not in extracted_entities:\n",
        "                    extracted_entities[ent.label_] = []\n",
        "                extracted_entities[ent.label_].append(ent.text)\n",
        "\n",
        "            # Lowercase the extracted entities\n",
        "            extracted_entities = lower_entities(extracted_entities)\n",
        "\n",
        "            # Calculate score for the candidate\n",
        "            score, matched, unmatched = calculate_score(requirements, extracted_entities)\n",
        "\n",
        "            # Store the results\n",
        "            results[candidate_name] = {\n",
        "                \"score\": score,\n",
        "                \"matched\": matched,\n",
        "                \"unmatched\": unmatched\n",
        "            }\n",
        "\n",
        "    return results\n"
      ],
      "metadata": {
        "id": "ILHkKBAIav_G"
      },
      "execution_count": 136,
      "outputs": []
    },
    {
      "cell_type": "code",
      "source": [
        "def calculate_score(requirements, extracted_entities, required_score=20, additional_score=5):\n",
        "    matched = {\"required\": [], \"additional\": []}\n",
        "    unmatched = {\"required\": [], \"additional\": []}\n",
        "\n",
        "    # Track the count of satisfied required and additional skills\n",
        "    satisfied_required_count = 0\n",
        "    satisfied_additional_count = 0\n",
        "\n",
        "    # Calculate the original number of required and additional skills\n",
        "    original_required_count = len(requirements[\"required\"])\n",
        "    original_additional_count = len(requirements[\"additional\"])\n",
        "\n",
        "    # Calculate the total possible score for required and additional skills\n",
        "    total_possible_required_score = original_required_count * required_score\n",
        "    total_possible_additional_score = original_additional_count * additional_score\n",
        "\n",
        "    for requirement in requirements[\"required\"]:\n",
        "        found = False\n",
        "        for key, values in extracted_entities.items():\n",
        "            if requirement in values and requirement not in matched[\"required\"]:\n",
        "                found = True\n",
        "                matched[\"required\"].append(requirement)\n",
        "                satisfied_required_count += 1\n",
        "                break\n",
        "        if not found:\n",
        "            unmatched[\"required\"].append(requirement)\n",
        "\n",
        "    for additional in requirements[\"additional\"]:\n",
        "        found = False\n",
        "        for key, values in extracted_entities.items():\n",
        "            if additional in values and additional not in matched[\"additional\"]:\n",
        "                found = True\n",
        "                matched[\"additional\"].append(additional)\n",
        "                satisfied_additional_count += 1\n",
        "                break\n",
        "        if not found:\n",
        "            unmatched[\"additional\"].append(additional)\n",
        "\n",
        "    actual_required_score = satisfied_required_count * required_score\n",
        "    actual_additional_score = satisfied_additional_count * additional_score\n",
        "\n",
        "    # Check if the percentage of satisfied required skills is less than 85% of the original required count\n",
        "    if satisfied_required_count < 0.10 * original_required_count:\n",
        "        final_score = 0\n",
        "    else:\n",
        "        total_possible_score_achieved = actual_required_score + actual_additional_score\n",
        "        final_score = round((total_possible_score_achieved / (total_possible_required_score + total_possible_additional_score)) * 100,2)\n",
        "\n",
        "    return final_score, matched, unmatched\n"
      ],
      "metadata": {
        "id": "LAHYVgu-ay0l"
      },
      "execution_count": 153,
      "outputs": []
    },
    {
      "cell_type": "code",
      "source": [
        "def generate_candidate_details(results):\n",
        "    candidate_details = []\n",
        "\n",
        "    for candidate_name, result in results.items():\n",
        "        score = result[\"score\"]\n",
        "        satisfied_required_skills = result[\"matched\"][\"required\"]\n",
        "        satisfied_additional_skills = result[\"matched\"][\"additional\"]\n",
        "        not_satisfied_required_skills = result[\"unmatched\"][\"required\"]\n",
        "        not_satisfied_additional_skills = result[\"unmatched\"][\"additional\"]\n",
        "\n",
        "        # Append candidate details to the list as a tuple\n",
        "        candidate_details.append((candidate_name, score, satisfied_required_skills, satisfied_additional_skills, not_satisfied_required_skills, not_satisfied_additional_skills))\n",
        "\n",
        "    # Sort the list of tuples based on score in descending order\n",
        "    candidate_details.sort(key=lambda x: x[1], reverse=True)\n",
        "\n",
        "    table_headers = [\"Candidate Name\", \"Score\", \"Satisfied Required Skills\", \"Satisfied Additional Skills\", \"Not Satisfied Required Skills\", \"Not Satisfied Additional Skills\"]\n",
        "    table_data = []\n",
        "\n",
        "    for candidate_detail in candidate_details:\n",
        "        candidate_name, score, satisfied_required_skills, satisfied_additional_skills, not_satisfied_required_skills, not_satisfied_additional_skills = candidate_detail\n",
        "\n",
        "        table_row = [\n",
        "            candidate_name,\n",
        "            score,\n",
        "            \", \".join(satisfied_required_skills),\n",
        "            \", \".join(satisfied_additional_skills),\n",
        "            \", \".join(not_satisfied_required_skills),\n",
        "            \", \".join(not_satisfied_additional_skills)\n",
        "        ]\n",
        "        table_data.append(table_row)\n",
        "\n",
        "    # Print candidate details in a pretty table format\n",
        "    print(tabulate(table_data, headers=table_headers, tablefmt=\"pretty\"))\n",
        "\n",
        "    # Export details to a text file\n",
        "    with open(\"candidate_details.txt\", \"w\") as file:\n",
        "        file.write(tabulate(table_data, headers=table_headers, tablefmt=\"plain\"))\n"
      ],
      "metadata": {
        "id": "oLPjbPy7aAEF"
      },
      "execution_count": null,
      "outputs": []
    },
    {
      "cell_type": "markdown",
      "source": [
        "## Main"
      ],
      "metadata": {
        "id": "kZEfwEXRVQGr"
      }
    },
    {
      "cell_type": "code",
      "source": [
        "resumes_folder = \"/content/resumes\"\n",
        "# requirements_path = \"/content/requirements_python.json\"\n",
        "requirements_path = \"/content/requirements_web.json\"\n",
        "\n",
        "results = process_resumes(resumes_folder,requirements_path)\n",
        "generate_candidate_details(results)"
      ],
      "metadata": {
        "colab": {
          "base_uri": "https://localhost:8080/"
        },
        "id": "agDmlyzaT7cE",
        "outputId": "f326ed4f-ad1e-4032-f20c-d0c1c792307f"
      },
      "execution_count": 154,
      "outputs": [
        {
          "output_type": "stream",
          "name": "stdout",
          "text": [
            "+-------------------------------+-------+-------------------------------------+-----------------------------+--------------------------------------------------+---------------------------------+\n",
            "|        Candidate Name         | Score |      Satisfied Required Skills      | Satisfied Additional Skills |          Not Satisfied Required Skills           | Not Satisfied Additional Skills |\n",
            "+-------------------------------+-------+-------------------------------------+-----------------------------+--------------------------------------------------+---------------------------------+\n",
            "|        MV Sai Gowtham         | 62.5  | javascript, sql, node, express, css |                             |                   react, html                    |   word, excel, github, docker   |\n",
            "|         Basava Laxmi          | 53.12 |     javascript, sql, node, css      |           github            |               react, express, html               |       word, excel, docker       |\n",
            "|         Adepu Ashvith         | 43.75 |        javascript, sql, css         |       github, docker        |            react, node, express, html            |           word, excel           |\n",
            "|    GANDRA VEERENDAR REDDY     | 40.62 |        javascript, sql, css         |           github            |            react, node, express, html            |       word, excel, docker       |\n",
            "|       Pavan Kumar Pola        | 37.5  |        javascript, sql, css         |                             |            react, node, express, html            |   word, excel, github, docker   |\n",
            "|        Likhith resume         | 37.5  |        javascript, sql, css         |                             |            react, node, express, html            |   word, excel, github, docker   |\n",
            "|         Katkam Manish         | 37.5  |        javascript, sql, css         |                             |            react, node, express, html            |   word, excel, github, docker   |\n",
            "|        Nikhitha Punati        | 37.5  |        javascript, sql, css         |                             |            react, node, express, html            |   word, excel, github, docker   |\n",
            "|         Saketh Reddy          | 31.25 |              sql, css               |        excel, github        |      javascript, react, node, express, html      |          word, docker           |\n",
            "|         Bhavesh Kumar         | 28.12 |              sql, css               |           docker            |      javascript, react, node, express, html      |       word, excel, github       |\n",
            "|        Mittapalli Uday        | 28.12 |           javascript, css           |           github            |         react, sql, node, express, html          |       word, excel, docker       |\n",
            "|         Charan Ganesh         | 28.12 |           javascript, css           |            excel            |         react, sql, node, express, html          |      word, github, docker       |\n",
            "|       Sai Satya Vardhan       | 25.0  |           javascript, css           |                             |         react, sql, node, express, html          |   word, excel, github, docker   |\n",
            "|         Bandi Charith         | 25.0  |           javascript, css           |                             |         react, sql, node, express, html          |   word, excel, github, docker   |\n",
            "|         RITHWIK GOKE          | 25.0  |              sql, css               |                             |      javascript, react, node, express, html      |   word, excel, github, docker   |\n",
            "|          Vipul Thota          | 25.0  |           javascript, css           |                             |         react, sql, node, express, html          |   word, excel, github, docker   |\n",
            "|      SIDDAMSHETTY SAKETH      | 25.0  |           javascript, css           |                             |         react, sql, node, express, html          |   word, excel, github, docker   |\n",
            "|          Yashwanth-6          | 25.0  |           javascript, css           |                             |         react, sql, node, express, html          |   word, excel, github, docker   |\n",
            "|         AKASH CHALLA          | 25.0  |              sql, css               |                             |      javascript, react, node, express, html      |   word, excel, github, docker   |\n",
            "|            Devesh             | 25.0  |              sql, css               |                             |      javascript, react, node, express, html      |   word, excel, github, docker   |\n",
            "|     Narra Praneeth Reddy      | 25.0  |           javascript, css           |                             |         react, sql, node, express, html          |   word, excel, github, docker   |\n",
            "|          Eswar Varma          | 25.0  |           javascript, css           |                             |         react, sql, node, express, html          |   word, excel, github, docker   |\n",
            "|      Mittipalli Abhishek      | 15.62 |                 css                 |           github            |   javascript, react, sql, node, express, html    |       word, excel, docker       |\n",
            "|      CHARITHARDHA REDDY       | 12.5  |                 sql                 |                             |   javascript, react, node, express, css, html    |   word, excel, github, docker   |\n",
            "|        Akash Surpaneni        | 12.5  |             javascript              |                             |       react, sql, node, express, css, html       |   word, excel, github, docker   |\n",
            "|         Sohan_Resume          | 12.5  |                 css                 |                             |   javascript, react, sql, node, express, html    |   word, excel, github, docker   |\n",
            "|         SANDEEP-2(1)          | 12.5  |                 sql                 |                             |   javascript, react, node, express, css, html    |   word, excel, github, docker   |\n",
            "|        SIMHADRI GAMPA         | 12.5  |             javascript              |                             |       react, sql, node, express, css, html       |   word, excel, github, docker   |\n",
            "|  REVANTH KRISHNA SAI TEEGALA  | 12.5  |             javascript              |                             |       react, sql, node, express, css, html       |   word, excel, github, docker   |\n",
            "|         Venkat_Resume         | 12.5  |                 css                 |                             |   javascript, react, sql, node, express, html    |   word, excel, github, docker   |\n",
            "|          karthikeya           | 12.5  |                 sql                 |                             |   javascript, react, node, express, css, html    |   word, excel, github, docker   |\n",
            "|        SUSHANTH PURAM         | 12.5  |                 css                 |                             |   javascript, react, sql, node, express, html    |   word, excel, github, docker   |\n",
            "|          Sahi Reddy           | 12.5  |                 sql                 |                             |   javascript, react, node, express, css, html    |   word, excel, github, docker   |\n",
            "|      Amanaganti Shivanth      | 12.5  |                 css                 |                             |   javascript, react, sql, node, express, html    |   word, excel, github, docker   |\n",
            "|           SANDEEP-2           | 12.5  |                 sql                 |                             |   javascript, react, node, express, css, html    |   word, excel, github, docker   |\n",
            "|   SAI SATYA VARDHAN CHANDRA   | 12.5  |                node                 |                             |    javascript, react, sql, express, css, html    |   word, excel, github, docker   |\n",
            "|        vedant Nandkar         | 12.5  |                 sql                 |                             |   javascript, react, node, express, css, html    |   word, excel, github, docker   |\n",
            "|        Parthiv Resume         | 12.5  |                 sql                 |                             |   javascript, react, node, express, css, html    |   word, excel, github, docker   |\n",
            "|     ANISH PAUL SINGAREDDY     |   0   |                                     |                             | javascript, react, sql, node, express, css, html |   word, excel, github, docker   |\n",
            "|      karthik Yalamanchi       |   0   |                                     |                             | javascript, react, sql, node, express, css, html |   word, excel, github, docker   |\n",
            "|         SHRIYA THOTA          |   0   |                                     |                             | javascript, react, sql, node, express, css, html |   word, excel, github, docker   |\n",
            "|  Vadlamudi Rithvik Chowdary   |   0   |                                     |                             | javascript, react, sql, node, express, css, html |   word, excel, github, docker   |\n",
            "| RAMIREDDY SATHVIK KUMAR REDDY |   0   |                                     |                             | javascript, react, sql, node, express, css, html |   word, excel, github, docker   |\n",
            "|      RITHVIK REDDY GUMMI      |   0   |                                     |                             | javascript, react, sql, node, express, css, html |   word, excel, github, docker   |\n",
            "|    NITHISH RAGHAV KARANAM     |   0   |                                     |                             | javascript, react, sql, node, express, css, html |   word, excel, github, docker   |\n",
            "|          Datta Varma          |   0   |                                     |                             | javascript, react, sql, node, express, css, html |   word, excel, github, docker   |\n",
            "|       Divi Mani Krishna       |   0   |                                     |                             | javascript, react, sql, node, express, css, html |   word, excel, github, docker   |\n",
            "|        Abhiram Vanama         |   0   |                                     |           docker            | javascript, react, sql, node, express, css, html |       word, excel, github       |\n",
            "|         Vismy_Resume          |   0   |                                     |                             | javascript, react, sql, node, express, css, html |   word, excel, github, docker   |\n",
            "|        AJITESH REDDY B        |   0   |                                     |                             | javascript, react, sql, node, express, css, html |   word, excel, github, docker   |\n",
            "|         Arnav Challa          |   0   |                                     |                             | javascript, react, sql, node, express, css, html |   word, excel, github, docker   |\n",
            "|          Varun Kumar          |   0   |                                     |                             | javascript, react, sql, node, express, css, html |   word, excel, github, docker   |\n",
            "|        G Naag Adithya         |   0   |                                     |                             | javascript, react, sql, node, express, css, html |   word, excel, github, docker   |\n",
            "|        Shuvang Mishra         |   0   |                                     |                             | javascript, react, sql, node, express, css, html |   word, excel, github, docker   |\n",
            "|          Purab reddy          |   0   |                                     |                             | javascript, react, sql, node, express, css, html |   word, excel, github, docker   |\n",
            "|    SIDDHARTHA REDDY PADURI    |   0   |                                     |                             | javascript, react, sql, node, express, css, html |   word, excel, github, docker   |\n",
            "|     RISHIKA REDDY VOOTKUR     |   0   |                                     |                             | javascript, react, sql, node, express, css, html |   word, excel, github, docker   |\n",
            "|            Nikhil             |   0   |                                     |                             | javascript, react, sql, node, express, css, html |   word, excel, github, docker   |\n",
            "|       karthik Sattiraju       |   0   |                                     |                             | javascript, react, sql, node, express, css, html |   word, excel, github, docker   |\n",
            "|          Poojith rao          |   0   |                                     |                             | javascript, react, sql, node, express, css, html |   word, excel, github, docker   |\n",
            "|   GUNA SIMHA REDDY MEKAPATI   |   0   |                                     |                             | javascript, react, sql, node, express, css, html |   word, excel, github, docker   |\n",
            "|        Sai Satvik raju        |   0   |                                     |                             | javascript, react, sql, node, express, css, html |   word, excel, github, docker   |\n",
            "|         Dhanush Reddy         |   0   |                                     |                             | javascript, react, sql, node, express, css, html |   word, excel, github, docker   |\n",
            "+-------------------------------+-------+-------------------------------------+-----------------------------+--------------------------------------------------+---------------------------------+\n"
          ]
        }
      ]
    }
  ]
}